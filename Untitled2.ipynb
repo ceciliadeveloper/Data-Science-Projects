{
  "nbformat": 4,
  "nbformat_minor": 0,
  "metadata": {
    "colab": {
      "provenance": [],
      "authorship_tag": "ABX9TyMDGf1czTTJeSI0ox5A1jOS",
      "include_colab_link": true
    },
    "kernelspec": {
      "name": "python3",
      "display_name": "Python 3"
    },
    "language_info": {
      "name": "python"
    }
  },
  "cells": [
    {
      "cell_type": "markdown",
      "metadata": {
        "id": "view-in-github",
        "colab_type": "text"
      },
      "source": [
        "<a href=\"https://colab.research.google.com/github/ceciliadeveloper/Data-Science-Projects/blob/main/Untitled2.ipynb\" target=\"_parent\"><img src=\"https://colab.research.google.com/assets/colab-badge.svg\" alt=\"Open In Colab\"/></a>"
      ]
    },
    {
      "cell_type": "code",
      "execution_count": 1,
      "metadata": {
        "colab": {
          "base_uri": "https://localhost:8080/"
        },
        "id": "SZdh3hwhFyBg",
        "outputId": "b40f8cb8-771d-4cd7-cdef-75ee57035dc8"
      },
      "outputs": [
        {
          "output_type": "execute_result",
          "data": {
            "text/plain": [
              "(0.4666666666666667,\n",
              " '              precision    recall  f1-score   support\\n\\n Not Churned       0.50      0.31      0.38        16\\n     Churned       0.45      0.64      0.53        14\\n\\n    accuracy                           0.47        30\\n   macro avg       0.47      0.48      0.46        30\\nweighted avg       0.48      0.47      0.45        30\\n')"
            ]
          },
          "metadata": {},
          "execution_count": 1
        }
      ],
      "source": [
        "import pandas as pd\n",
        "import numpy as np\n",
        "from sklearn.model_selection import train_test_split\n",
        "from sklearn.ensemble import RandomForestClassifier\n",
        "from sklearn.metrics import classification_report, accuracy_score\n",
        "\n",
        "# Simulated dataset for educational churn prediction\n",
        "data = {\n",
        "    'student_id': range(1, 101),\n",
        "    'login_frequency': np.random.randint(1, 10, 100),  # Number of logins per month\n",
        "    'assignment_submission_rate': np.random.uniform(0.5, 1.0, 100),  # % of assignments submitted\n",
        "    'last_login_days_ago': np.random.randint(1, 30, 100),  # Days since last login\n",
        "    'grades_average': np.random.uniform(60, 100, 100),  # Average grade of the student\n",
        "    'class_participation': np.random.randint(1, 5, 100),  # 1-5 scale of participation\n",
        "    'churn': np.random.randint(0, 2, 100)  # 0 for not churned, 1 for churned\n",
        "}\n",
        "\n",
        "# Convert to DataFrame\n",
        "df = pd.DataFrame(data)\n",
        "\n",
        "# Features and target\n",
        "X = df.drop(columns=['student_id', 'churn'])\n",
        "y = df['churn']\n",
        "\n",
        "# Split dataset into train and test\n",
        "X_train, X_test, y_train, y_test = train_test_split(X, y, test_size=0.3, random_state=42)\n",
        "\n",
        "# Model training - Random Forest Classifier\n",
        "model = RandomForestClassifier(n_estimators=100, random_state=42)\n",
        "model.fit(X_train, y_train)\n",
        "\n",
        "# Predictions\n",
        "y_pred = model.predict(X_test)\n",
        "\n",
        "# Evaluate the model\n",
        "accuracy = accuracy_score(y_test, y_pred)\n",
        "report = classification_report(y_test, y_pred, target_names=[\"Not Churned\", \"Churned\"])\n",
        "\n",
        "accuracy, report\n"
      ]
    }
  ]
}